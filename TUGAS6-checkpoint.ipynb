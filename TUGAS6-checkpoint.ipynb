{
 "cells": [
  {
   "cell_type": "markdown",
   "id": "34d4e765-e519-4ad0-bcda-e11e3f8e98b1",
   "metadata": {},
   "source": [
    "<h1>Nama:Raja Muhammad Musyriful Akmal\n",
    "NIM:20240040005\n",
    "Kelas:TI24A</h1>"
   ]
  },
  {
   "cell_type": "markdown",
   "id": "46892bec-8397-49df-a00e-6b57fccc26b7",
   "metadata": {},
   "source": [
    "Buatlah program yang meminta pengguna memasukkan usia seseorang, lalu tentukan apakah dia\n",
    "anak-anak (0-12 tahun), remaja (13-17 tahun), dewasa (18-59 tahun), atau lansia (60 tahun ke atas)."
   ]
  },
  {
   "cell_type": "code",
   "execution_count": 5,
   "id": "5ab017b7-1201-4a35-a2b1-0b6fbb0bd24f",
   "metadata": {},
   "outputs": [
    {
     "name": "stdin",
     "output_type": "stream",
     "text": [
      "Isikan Usia Anda 21\n"
     ]
    },
    {
     "name": "stdout",
     "output_type": "stream",
     "text": [
      "Usia Anda masuk dalam kategori : Dewasa\n"
     ]
    }
   ],
   "source": [
    "usia = int(input(\"Isikan Usia Anda\"))\n",
    "\n",
    "if 0 <=  usia <= 12:\n",
    "    kategori = \"Anak Anak\"\n",
    "elif 13 <= usia <= 17:\n",
    "    kategori = \"Remaja\"\n",
    "elif 18 <= usia <= 59:\n",
    "    kategori = \"Dewasa\"\n",
    "elif usia >= 60:\n",
    "    kategori = \"Lansia\"\n",
    "else:\n",
    "    kategori = \"Usia Tidak Valid\"\n",
    "\n",
    "print(f\"Usia Anda masuk dalam kategori :\",kategori)"
   ]
  },
  {
   "cell_type": "code",
   "execution_count": null,
   "id": "9121e085-168e-4f43-8414-c6cec5314b09",
   "metadata": {},
   "outputs": [],
   "source": []
  },
  {
   "cell_type": "markdown",
   "id": "d978a2ba-b5d5-4956-b42c-30245bcea832",
   "metadata": {},
   "source": [
    "Sebuah taman hiburan memiliki aturan harga tiket berdasarkan usia:\n",
    "\n",
    "1.Anak-anak (0-12 tahun): Rp 10.000\n",
    "\n",
    "2.Remaja (13-17 tahun): Rp 15.000\n",
    "\n",
    "3.Dewasa (18-59 tahun): Rp 25.000\n",
    "\n",
    "4.Lansia (60 tahun ke atas): Gratis\n",
    "\n",
    "Buat program untuk menentukan harga tiket berdasarkan usia yang dimasukkan pengguna dan total harga yang harus dibayar, jika terdapat 3 input seperti berikut ini"
   ]
  },
  {
   "cell_type": "code",
   "execution_count": 14,
   "id": "3565fea8-30e3-4758-af9f-c347264211e3",
   "metadata": {},
   "outputs": [
    {
     "name": "stdin",
     "output_type": "stream",
     "text": [
      "Isikan Umur Tiket 1: 25\n",
      "Isikan Umur Tiket 2:  15\n",
      "Isikan Umur Tiket 3:  5\n"
     ]
    },
    {
     "name": "stdout",
     "output_type": "stream",
     "text": [
      "Total Harga yang harus dibayar:  50000\n"
     ]
    }
   ],
   "source": [
    "tiket1 = int(input(\"Isikan Umur Tiket 1:\"))\n",
    "tiket2 = int(input(\"Isikan Umur Tiket 2: \"))\n",
    "tiket3 = int(input(\"Isikan Umur Tiket 3: \"))\n",
    "\n",
    "def hargaTiket (usia):\n",
    "    if 0 <= usia <= 12:\n",
    "        return 10000\n",
    "    elif 13 <= usia <= 17:\n",
    "        return 15000\n",
    "    elif 18 <= usia <= 59:\n",
    "        return 25000\n",
    "    elif usia >= 60:\n",
    "        return 0\n",
    "    else:\n",
    "        \"Usia Tidak Valid\"\n",
    "\n",
    "totalHarga = (hargaTiket(tiket1) + hargaTiket(tiket2) + hargaTiket(tiket3))\n",
    "\n",
    "print(f\"Total Harga yang harus dibayar: \",totalHarga)"
   ]
  },
  {
   "cell_type": "code",
   "execution_count": null,
   "id": "84510c14-406d-43ec-a855-aa9ccdaa39cf",
   "metadata": {},
   "outputs": [],
   "source": []
  },
  {
   "cell_type": "markdown",
   "id": "67aaf745-f6ac-42d0-b059-16c12ee05274",
   "metadata": {},
   "source": [
    "Sebuah restoran memiliki diskon khusus: Anak-anak (0-12 tahun) diskon 50% Lansia (60 tahun ke atas) diskon 30% Selain itu, tidak ada diskon Buat program untuk menghitung harga yang harus dibayar setelah diskon diberikan."
   ]
  },
  {
   "cell_type": "code",
   "execution_count": 19,
   "id": "5c54d525-6166-4874-9a7b-d3e7b3b88e14",
   "metadata": {},
   "outputs": [
    {
     "name": "stdin",
     "output_type": "stream",
     "text": [
      "Masukan Usia Anda:  12\n",
      "Masukan Harga:  50000\n"
     ]
    },
    {
     "name": "stdout",
     "output_type": "stream",
     "text": [
      "Diskon : 50 %\n",
      "Harga yang harus dibayar : Rp.25000.0\n"
     ]
    }
   ],
   "source": [
    "usia = int(input(\"Masukan Usia Anda: \"))\n",
    "harga = int(input(\"Masukan Harga: \"))\n",
    "\n",
    "if 0 <= usia <= 12:\n",
    "    diskon = 50\n",
    "    print(\"Diskon :\",diskon,\"%\")\n",
    "elif usia >= 60:\n",
    "    diskon = 30\n",
    "    print(\"Diskon :\",diskon,\"%\")\n",
    "else:\n",
    "    diskon = 0\n",
    "    \"Tidak Ada Diskon\"\n",
    "    print(f\"Maaf anda belum mendapatkan diskon\")\n",
    "\n",
    "hargaDiskon = harga - (harga * diskon/100)\n",
    "\n",
    "print(f\"Harga yang harus dibayar : Rp.{hargaDiskon}\")"
   ]
  },
  {
   "cell_type": "code",
   "execution_count": null,
   "id": "16733f9e-6753-477e-8794-6bce6497f3c2",
   "metadata": {},
   "outputs": [],
   "source": []
  },
  {
   "cell_type": "markdown",
   "id": "af1e22c9-b43f-49ad-af38-74aa6bbf14e7",
   "metadata": {},
   "source": [
    "Program beasiswa:\n",
    "\n",
    "1.Jika nilai rapor ≥ 90 dan penghasilan orang tua < Rp 5.000.000 → Beasiswa Penuh\n",
    "\n",
    "2.Jika nilai rapor ≥ 85 dan penghasilan orang tua < Rp 8.000.000 → Beasiswa 50%\n",
    "\n",
    "3.Jika tidak memenuhi syarat di atas → Tidak mendapatkan beasiswa\n"
   ]
  },
  {
   "cell_type": "code",
   "execution_count": 24,
   "id": "218324c5-1e47-4018-8de0-2a282cf61ef7",
   "metadata": {},
   "outputs": [
    {
     "name": "stdin",
     "output_type": "stream",
     "text": [
      "Isikan Nilai Rapor : 85\n",
      "Isikan Penghasilan Orang Tua : 3000000\n"
     ]
    },
    {
     "name": "stdout",
     "output_type": "stream",
     "text": [
      "Selamat Anda mendapatkan Beasiswa 50%.\n"
     ]
    }
   ],
   "source": [
    "nilai = int(input(\"Isikan Nilai Rapor :\"))\n",
    "penghasilan = int(input(\"Isikan Penghasilan Orang Tua :\"))\n",
    "\n",
    "if nilai >= 90 and penghasilan < 5000000:\n",
    "    print(\"Selamat Anda mendapatkan Beasiswa Penuh.\")\n",
    "elif nilai >= 85 and penghasilan < 8000000:\n",
    "    print(\"Selamat Anda mendapatkan Beasiswa 50%.\")\n",
    "else:\n",
    "    print(\"Tidak mendapatkan Beasiswa.\")"
   ]
  },
  {
   "cell_type": "code",
   "execution_count": null,
   "id": "4c5804f3-d6d9-4a16-86fc-d4b014357960",
   "metadata": {},
   "outputs": [],
   "source": []
  },
  {
   "cell_type": "markdown",
   "id": "acc24024-2a60-4edd-8160-ff6d12b3eebd",
   "metadata": {},
   "source": [
    "Suatu aplikasi streaming memiliki batasan usia:\n",
    "\n",
    "1.Film Semua Umur: Bisa ditonton oleh siapa saja\n",
    "\n",
    "2.Film Remaja: Hanya untuk usia ≥ 13 tahun\n",
    "\n",
    "3.Film Dewasa: Hanya untuk usia ≥ 18 tahun\n",
    "\n",
    "Buat program yang meminta input usia dan kategori film, lalu tentukan apakah seseorang boleh menonton film tersebut atau tidak."
   ]
  },
  {
   "cell_type": "code",
   "execution_count": 27,
   "id": "407915f1-56c9-4eb0-942b-54f36f6cf8de",
   "metadata": {},
   "outputs": [
    {
     "name": "stdin",
     "output_type": "stream",
     "text": [
      "Masukan Umur Penonton : 21\n",
      "Masukan Kategori Film (Semua Umur/Remaja/Dewasa) : Dewasa\n"
     ]
    },
    {
     "name": "stdout",
     "output_type": "stream",
     "text": [
      "Anda boleh Menonton\n"
     ]
    }
   ],
   "source": [
    "umur = int(input(\"Masukan Umur Penonton :\"))\n",
    "kategoriFilm = input(\"Masukan Kategori Film (Semua Umur/Remaja/Dewasa) :\")\n",
    "\n",
    "if kategoriFilm == \"Semua Umur\":\n",
    "    print(\"Anda boleh Menonton\") \n",
    "elif kategoriFilm == \"Remaja\" and umur >= 13:\n",
    "    print(\"Anda boleh Menonton\")\n",
    "elif kategoriFilm == \"Dewasa\" and umur >= 18:\n",
    "    print(\"Anda boleh Menonton\")\n",
    "else:\n",
    "    print(\"Anda Tidak boleh Menonton Film ini.\")"
   ]
  },
  {
   "cell_type": "code",
   "execution_count": null,
   "id": "a55bce0b-2b59-48ae-9ff9-0040833f814c",
   "metadata": {},
   "outputs": [],
   "source": []
  },
  {
   "cell_type": "markdown",
   "id": "e4a3ff78-05b2-41a2-9aac-a1af29528a24",
   "metadata": {},
   "source": [
    "Sebuah toko memberikan diskon berdasarkan jumlah pembelian:\n",
    "\n",
    "1.Jika total belanja ≥ Rp 500.000 → Diskon 20%\n",
    "\n",
    "2.Jika total belanja ≥ Rp 250.000 → Diskon 10%\n",
    "\n",
    "3.Jika total belanja < Rp 250.000 → Tidak ada diskon\n",
    "\n",
    "Hitung harga akhir setelah diskon."
   ]
  },
  {
   "cell_type": "code",
   "execution_count": 30,
   "id": "a468cc56-2a4d-4e7c-8277-868b1b89bb56",
   "metadata": {},
   "outputs": [
    {
     "name": "stdin",
     "output_type": "stream",
     "text": [
      "Isikan Total belanja : 100000\n"
     ]
    },
    {
     "name": "stdout",
     "output_type": "stream",
     "text": [
      "Tidak Ada Diskon\n",
      "total Belanja setelah diskon :100000.0\n"
     ]
    }
   ],
   "source": [
    "total = int(input(\"Isikan Total belanja :\"))\n",
    "\n",
    "if total >= 500000:\n",
    "    diskon = 20\n",
    "    print(\"Diskon :\", diskon,\"%\")\n",
    "elif total >= 250000:\n",
    "    diskon = 10\n",
    "    print(\"Diskon :\", diskon,\"%\")\n",
    "else:\n",
    "    diskon = 0\n",
    "    print(\"Tidak Ada Diskon\")\n",
    "\n",
    "hargaAkhir = total - (total * diskon/100)\n",
    "print(f\"total Belanja setelah diskon :{hargaAkhir}\")"
   ]
  },
  {
   "cell_type": "code",
   "execution_count": null,
   "id": "9a40d2f5-09a7-4079-9030-670c416ced2f",
   "metadata": {},
   "outputs": [],
   "source": []
  },
  {
   "cell_type": "markdown",
   "id": "68b6e98f-aa16-4d82-b964-4876bce42248",
   "metadata": {},
   "source": [
    "Program parkir:\n",
    "\n",
    "1.Mobil: Rp 5.000 per jam\n",
    "\n",
    "2.Motor: Rp 2.000 per jam\n",
    "\n",
    "3.Jika parkir lebih dari 5 jam, ada biaya tambahan Rp 10.000\n",
    "\n",
    "Hitung total biaya parkir berdasarkan jenis kendaraan dan durasi parkir."
   ]
  },
  {
   "cell_type": "code",
   "execution_count": 38,
   "id": "fe03c888-78d7-4a5a-9b2c-5835dccfb383",
   "metadata": {},
   "outputs": [
    {
     "name": "stdin",
     "output_type": "stream",
     "text": [
      "Masukan Jarak perjalanan (km) : 24\n"
     ]
    },
    {
     "name": "stdout",
     "output_type": "stream",
     "text": [
      "total Tarif Perjalanan untuk 24km : Rp.72000\n"
     ]
    }
   ],
   "source": [
    "jarak = int(input(\"Masukan Jarak perjalanan (km) :\"))\n",
    "\n",
    "if jarak <= 5:\n",
    "    tarif = jarak * 5000\n",
    "elif 6 <= jarak <= 10:\n",
    "    tarif = jarak * 4000\n",
    "else:\n",
    "    tarif = jarak * 3000\n",
    "\n",
    "total = jarak and tarif\n",
    "\n",
    "print(f\"total Tarif Perjalanan untuk {jarak}km : Rp.{total}\")"
   ]
  },
  {
   "cell_type": "code",
   "execution_count": null,
   "id": "64d5e626-6d23-4823-8306-4a74c811ff96",
   "metadata": {},
   "outputs": [],
   "source": []
  },
  {
   "cell_type": "markdown",
   "id": "54897f7e-08bb-4bbf-89ca-45421044356a",
   "metadata": {},
   "source": [
    "Buatlah sebuah sistem penerimaan calon programmer yang akan menerima dua nilai ( nilai coding dan nilai interview). Untuk penilaian test coding skala penilaian yang diberikan dimulai dari 0 hingga 100 dengan sistem penilaian:\n",
    "\n",
    "1.ketika seseorang mendapatkan nilai lebih dari 80 maka peserta tersebut akan mendapatkan hasil tes LOLOS\n",
    "\n",
    "2.ketika sesorang mendapatkan nilai diantara 60 hingga 80 maka peserta tersebut mendapatkan hasil tes DIPERTIMBANGKAN\n",
    "\n",
    "3.ketika seseorang mendapatkan nilai dibawah 60 maka peserta tersebut mendapatkan hasil tes GAGAL.\n",
    "\n",
    "Sedangkan untuk penilaian interview adalah\n",
    "\n",
    "1.ketika nilai yang diberikan kepada seseorang tersebut adalah \"A\" atau \"B\" maka peserta tersebut dianggap LOLOS interview\n",
    "\n",
    "2.selain kedua nilai tersebut maka peserta dianggap GAGAL tes interview.\n",
    "\n",
    "Ketika calon programmer mendapatkan nilai coding LOLOS atau DIPERTIMBANGKAN dan juga LOLOS test interview maka tampilkanlah pesan \"Selamat Kamu Berhasil Menjadi Calon Programmer\". Jika tidak maka tampilkanlah pesan \"Maaf Kamu Belum Berhasil Menjadi Calon Programmer\""
   ]
  },
  {
   "cell_type": "code",
   "execution_count": 41,
   "id": "ab96f447-8d3c-4c5e-ad70-ee21e02134e7",
   "metadata": {},
   "outputs": [
    {
     "name": "stdin",
     "output_type": "stream",
     "text": [
      "Masukan nilai coding : 80\n",
      "Masukan Nilai Interview (A/B/C/D):  B\n"
     ]
    },
    {
     "name": "stdout",
     "output_type": "stream",
     "text": [
      "Maaf Kamu Belum Berhasil Menjadi Calon Programmer\n"
     ]
    }
   ],
   "source": [
    "nilai1 = int(input(\"Masukan nilai coding :\"))\n",
    "nilai2 = input(\"Masukan Nilai Interview (A/B/C/D): \")\n",
    "\n",
    "if nilai1 > 80:\n",
    "    hasil1 = \"LOLOS\"\n",
    "elif 60 <= nilai1 <= 80:\n",
    "    hasil1 = \"Dipertimbangkan\"\n",
    "else:\n",
    "    hasil1 = \"GAGAL\"\n",
    "\n",
    "if nilai2 in [\"A\", \"B\"]:\n",
    "    hasil2 = \"LOLOS\"\n",
    "else:\n",
    "    hasil2 = \"GAGAL\"\n",
    "\n",
    "if (hasil1 in [\"LOLOS\", \"DIPERTIMBANGKAN\"]) and hasil2 == \"LOLOS\":\n",
    "    print(\"Selamat Kamu Berhasil Menjadi Calon Programmer\")\n",
    "else:\n",
    "    print(\"Maaf Kamu Belum Berhasil Menjadi Calon Programmer\")"
   ]
  },
  {
   "cell_type": "code",
   "execution_count": null,
   "id": "d9487b55-882e-4ff0-a26f-480d4a8120cc",
   "metadata": {},
   "outputs": [],
   "source": []
  },
  {
   "cell_type": "markdown",
   "id": "0866841e-6f10-4028-959b-d7e5f6e579ba",
   "metadata": {},
   "source": [
    "Sebuah klub sepak bola “PERSEGI FC” mempunyai aturan dalam memberikan nomor punggung bagi para pemainnya. Para pemain diperbolehkan mempunyai posisi lebih dari 1. Berikut adalah beberapa aturannya:\n",
    "\n",
    "1.Untuk nomor punggung genap, digunakan untuk posisi “target attacker”\n",
    "\n",
    "2.Untuk nomor punggung genap antara 50 – 100, digunakan untuk pemain yang “berhak dipilih menjadi capten team”\n",
    "\n",
    "3.Untuk nomor punggung ganjil, digunakan untuk posisi “defender”\n",
    "\n",
    "4.Untuk nomor punggung ganjil lebih dari 90, digunakan untuk posisi “Playmaker”\n",
    "\n",
    "5.Untuk nomor punggung ganjil kelipatan dari 3 dan 5, digunakan untuk posisi “keeper”\n",
    "\n",
    "Buatlah program untuk melakukan pengecekan sebuah nomor punggung dapat berfungsi sebagai posisi apa saja."
   ]
  },
  {
   "cell_type": "code",
   "execution_count": 44,
   "id": "f3f20175-d673-44a9-b92d-4ad84f97073d",
   "metadata": {},
   "outputs": [
    {
     "name": "stdin",
     "output_type": "stream",
     "text": [
      "Masukan No Punggung Pemain : 24\n"
     ]
    },
    {
     "name": "stdout",
     "output_type": "stream",
     "text": [
      "Nomor Punggung 24 Dapat Berfungsi Sebagai :\n",
      "Attacker\n"
     ]
    }
   ],
   "source": [
    "nomorP = int(input(\"Masukan No Punggung Pemain :\"))\n",
    "posisi = \"\" \n",
    "\n",
    "if nomorP % 2 == 0:\n",
    "    posisi += \"Attacker\"\n",
    "    if 50 <= nomorP <= 100:\n",
    "        posisi += \" Berhak Dipilih Menjadi Captain Team\"\n",
    "else:\n",
    "    posisi += \"Defender\"\n",
    "    if nomorP > 90:\n",
    "        posisi += \"Playmaker\"\n",
    "    if nomorP % 3 == 0 and nomorP % 5 == 0:\n",
    "        posisi += \"Keeper\"\n",
    "    else:\n",
    "        posisi = \"Tidak memiliki Posisi\"\n",
    "\n",
    "hasil = posisi\n",
    "\n",
    "print(\"Nomor Punggung\",nomorP, \"Dapat Berfungsi Sebagai :\")\n",
    "print(hasil)"
   ]
  }
 ],
 "metadata": {
  "kernelspec": {
   "display_name": "Python [conda env:base] *",
   "language": "python",
   "name": "conda-base-py"
  },
  "language_info": {
   "codemirror_mode": {
    "name": "ipython",
    "version": 3
   },
   "file_extension": ".py",
   "mimetype": "text/x-python",
   "name": "python",
   "nbconvert_exporter": "python",
   "pygments_lexer": "ipython3",
   "version": "3.12.7"
  }
 },
 "nbformat": 4,
 "nbformat_minor": 5
}
