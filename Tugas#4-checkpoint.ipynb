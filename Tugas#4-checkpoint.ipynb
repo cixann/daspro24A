{
 "cells": [
  {
   "cell_type": "markdown",
   "id": "9345d2d5-8095-4dab-a38f-acbc59b6d432",
   "metadata": {},
   "source": [
    "<h1>1.Operator Aritmatika</h1>"
   ]
  },
  {
   "cell_type": "code",
   "execution_count": 4,
   "id": "09383b02-38ac-4a1e-aa1a-8bd8e0ecdeb8",
   "metadata": {},
   "outputs": [
    {
     "name": "stdin",
     "output_type": "stream",
     "text": [
      "Isikan Jumlah Apel 12\n",
      "Isikan Jumlah Teman 4\n"
     ]
    },
    {
     "name": "stdout",
     "output_type": "stream",
     "text": [
      "Jumlah Apel Budi setelah dibagikan 12 // 4 = 3\n"
     ]
    },
    {
     "name": "stdin",
     "output_type": "stream",
     "text": [
      "Tambahkan Apel 8\n"
     ]
    },
    {
     "name": "stdout",
     "output_type": "stream",
     "text": [
      "Jumlah Apell setelah ditambahkan 12 + 8 = 20\n"
     ]
    }
   ],
   "source": [
    "x = int(input(\"Isikan Jumlah Apel\"))\n",
    "y = int(input(\"Isikan Jumlah Teman\"))\n",
    "\n",
    "hasilBagiBulat = x // y\n",
    "\n",
    "print(\"Jumlah Apel Budi setelah dibagikan\",x,\"//\",y,\"=\",hasilBagiBulat)\n",
    "\n",
    "z = int(input(\"Tambahkan Apel\"))\n",
    "\n",
    "hasilTambah = x + z\n",
    "\n",
    "\n",
    "print(\"Jumlah Apell setelah ditambahkan\",x,\"+\",z,\"=\",hasilTambah)"
   ]
  },
  {
   "cell_type": "markdown",
   "id": "c6b4f37c-a401-4086-ab0b-3bea3278a227",
   "metadata": {},
   "source": [
    "<h1>2.Operator Perbandingan</h1>"
   ]
  },
  {
   "cell_type": "code",
   "execution_count": 7,
   "id": "71adc49b-a4ef-46e2-80f9-860a7c286be2",
   "metadata": {},
   "outputs": [
    {
     "name": "stdin",
     "output_type": "stream",
     "text": [
      "Isikan Tb Siti 160\n",
      "Isikan Tb Andi 165\n"
     ]
    },
    {
     "name": "stdout",
     "output_type": "stream",
     "text": [
      "Andi lebih tinggi dari Siti\n"
     ]
    }
   ],
   "source": [
    "x = int(input(\"Isikan Tb Siti\"))\n",
    "y = int(input(\"Isikan Tb Andi\"))\n",
    "\n",
    "if x > y:\n",
    "    print(\"Siti lebih tinggi dari Andi\")\n",
    "elif x < y:\n",
    "    print(\"Andi lebih tinggi dari Siti\")\n",
    "else:\n",
    "    print(\"Andi dan Siti tinggi nya sama\")"
   ]
  },
  {
   "cell_type": "code",
   "execution_count": 9,
   "id": "68e6d7cf-ab31-421d-854c-2a57abe6f313",
   "metadata": {},
   "outputs": [
    {
     "name": "stdin",
     "output_type": "stream",
     "text": [
      "Isikan Tb Siti : 160\n",
      "Isikan Tb Andi : 165\n"
     ]
    },
    {
     "name": "stdout",
     "output_type": "stream",
     "text": [
      "Apakah Andi lebih tinggi?  True\n"
     ]
    }
   ],
   "source": [
    "x = int(input(\"Isikan Tb Siti :\"))\n",
    "y = int(input(\"Isikan Tb Andi :\"))\n",
    "z = x < y\n",
    "print(\"Apakah Andi lebih tinggi? \",z)"
   ]
  },
  {
   "cell_type": "markdown",
   "id": "51bd2347-0c49-4f29-b67c-db18834c9ab1",
   "metadata": {},
   "source": [
    "<h1>3.Operator Logika</h1>"
   ]
  },
  {
   "cell_type": "code",
   "execution_count": 12,
   "id": "76ecfc30-29fd-4844-bdc2-3cbc652aa4ef",
   "metadata": {},
   "outputs": [
    {
     "name": "stdin",
     "output_type": "stream",
     "text": [
      "Apakah cuaca nya cerah? (ya/tidak) : ya\n",
      "Apakah Budi sudah menyelesaikan PR nya? (ya/tidak) : ya\n"
     ]
    },
    {
     "name": "stdout",
     "output_type": "stream",
     "text": [
      "Budi bisa bermain keluar\n"
     ]
    }
   ],
   "source": [
    "a = str(input(\"Apakah cuaca nya cerah? (ya/tidak) :\"))\n",
    "b = str(input(\"Apakah Budi sudah menyelesaikan PR nya? (ya/tidak) :\"))\n",
    "c = a and b\n",
    "\n",
    "if c:\n",
    "    print(\"Budi bisa bermain keluar\")\n",
    "else:\n",
    "    print(\"Budi tidak bisa bermain keluar\")"
   ]
  },
  {
   "cell_type": "code",
   "execution_count": 14,
   "id": "0bbe7e00-a65e-457e-8487-d6c942bffa2c",
   "metadata": {},
   "outputs": [
    {
     "name": "stdin",
     "output_type": "stream",
     "text": [
      "Apakah cuaca nya cerah? (ya/tidak) : ya\n",
      "Apakah Budi sudah menyelesaikan PR nya? (ya/tidak) : ya\n"
     ]
    },
    {
     "name": "stdout",
     "output_type": "stream",
     "text": [
      "Apakah Budi bisa main keluar? ya\n"
     ]
    }
   ],
   "source": [
    "a = str(input(\"Apakah cuaca nya cerah? (ya/tidak) :\"))\n",
    "b = str(input(\"Apakah Budi sudah menyelesaikan PR nya? (ya/tidak) :\"))\n",
    "c = a and b\n",
    "\n",
    "print(\"Apakah Budi bisa main keluar?\",c)"
   ]
  },
  {
   "cell_type": "markdown",
   "id": "c6a256af-c618-4dcd-a026-034f533af833",
   "metadata": {},
   "source": [
    "<h1>4.Operator bitwise</h1>"
   ]
  },
  {
   "cell_type": "code",
   "execution_count": 17,
   "id": "8a0efd9a-b1dc-46ca-a0bd-a877a0f32c7d",
   "metadata": {},
   "outputs": [
    {
     "name": "stdin",
     "output_type": "stream",
     "text": [
      "Isikan angka 1 : 6\n",
      "Isikan angka 2 : 3\n"
     ]
    },
    {
     "name": "stdout",
     "output_type": "stream",
     "text": [
      "0b110\n",
      "0b11\n",
      "-----------------&\n",
      "0b10\n",
      "Hasil desimal AND adalah : 2\n",
      "0b110\n",
      "0b11\n",
      "---------------|\n",
      "0b111\n",
      "Hasil desimal OR adalah : 7\n",
      "0b110\n",
      "0b11\n",
      "---------------^\n",
      "0b101\n",
      "Hasil desimal XOR adalah : 5\n"
     ]
    }
   ],
   "source": [
    "bil1 = int(input(\"Isikan angka 1 :\"))\n",
    "bil2 = int(input(\"Isikan angka 2 :\"))\n",
    "\n",
    "#Bitwise AND (&)\n",
    "bitwiseAnd = bil1 & bil2\n",
    "print(bin(bil1))\n",
    "print(bin(bil2))\n",
    "print(\"-----------------&\")\n",
    "print(bin(bitwiseAnd))\n",
    "print(\"Hasil desimal AND adalah :\",bitwiseAnd)\n",
    "\n",
    "#Bitwise Or (|)\n",
    "bitwiseOr = bil1 | bil2\n",
    "print(bin(bil1))\n",
    "print(bin(bil2))\n",
    "print(\"---------------|\")\n",
    "print(bin(bitwiseOr))\n",
    "print(\"Hasil desimal OR adalah :\",bitwiseOr)\n",
    "\n",
    "#Bitwise XOR (^)\n",
    "bitwiseXOR = bil1 ^ bil2\n",
    "print(bin(bil1))\n",
    "print(bin(bil2))\n",
    "print(\"---------------^\")\n",
    "print(bin(bitwiseXOR))\n",
    "print(\"Hasil desimal XOR adalah :\",bitwiseXOR)"
   ]
  },
  {
   "cell_type": "markdown",
   "id": "259959f1-d030-4074-8718-a3b3cd27ccba",
   "metadata": {},
   "source": [
    "<h1>5.Operator Penugasan</h1>"
   ]
  },
  {
   "cell_type": "code",
   "execution_count": 20,
   "id": "bbf4bcaa-95a9-4a25-be2f-f15b0aedc342",
   "metadata": {},
   "outputs": [
    {
     "name": "stdin",
     "output_type": "stream",
     "text": [
      "Isikan Saldo 50000\n"
     ]
    },
    {
     "name": "stdout",
     "output_type": "stream",
     "text": [
      "Saldo awal dari <Saldo> : 50000\n",
      "Saldo setelah diisi ulang : 70000\n",
      "Saldo setelah dibelikan paket : 40000\n",
      "Sisa Saldo nya adalah : 40000\n"
     ]
    }
   ],
   "source": [
    "nilai = int(input(\"Isikan Saldo\"))\n",
    "print(\"Saldo awal dari <Saldo> :\",nilai)\n",
    "nilai+= 20000\n",
    "print(\"Saldo setelah diisi ulang :\",nilai)\n",
    "nilai-= 30000\n",
    "print(\"Saldo setelah dibelikan paket :\",nilai)\n",
    "print(\"Sisa Saldo nya adalah :\",nilai)"
   ]
  },
  {
   "cell_type": "markdown",
   "id": "1dbd01c1-3386-4e4e-84d8-77cce92d0fae",
   "metadata": {},
   "source": [
    "<h1>6.Operator Keanggotaan</h1>"
   ]
  },
  {
   "cell_type": "code",
   "execution_count": 23,
   "id": "bdfae1df-1e51-4386-ac74-6b57882fd9e3",
   "metadata": {},
   "outputs": [
    {
     "name": "stdin",
     "output_type": "stream",
     "text": [
      "Isikan nama yang dicari : Eka\n"
     ]
    },
    {
     "name": "stdout",
     "output_type": "stream",
     "text": [
      "Apakah nama tsb terdaftar sebagai peserta? False\n"
     ]
    },
    {
     "name": "stdin",
     "output_type": "stream",
     "text": [
      "Isikan kata yang dicari : Python\n"
     ]
    },
    {
     "name": "stdout",
     "output_type": "stream",
     "text": [
      "Apakah kata Python ada dalam kalimat? True\n"
     ]
    }
   ],
   "source": [
    "nama = input(\"Isikan nama yang dicari :\")\n",
    "listNama = [\"Andi\",\"Budi\",\"Citra\",\"Dewi\"]\n",
    "print(\"Apakah nama tsb terdaftar sebagai peserta?\", nama in listNama)\n",
    "\n",
    "kata = input(\"Isikan kata yang dicari :\")\n",
    "kalimat = \"Saya suka belajar Python\"\n",
    "print(\"Apakah kata Python ada dalam kalimat?\",kata in kalimat)"
   ]
  },
  {
   "cell_type": "markdown",
   "id": "01536439-57c3-4f2f-a784-864493d97e31",
   "metadata": {},
   "source": [
    "<h1>7.Operator Identitas</h1>"
   ]
  },
  {
   "cell_type": "code",
   "execution_count": 26,
   "id": "1665b000-6db9-4066-99e4-630e1294e6e1",
   "metadata": {},
   "outputs": [
    {
     "name": "stdout",
     "output_type": "stream",
     "text": [
      "Memori address dari x 140712088971992\n",
      "Memori address dari y 140712088971992\n",
      "Apakah x adalah y? True\n",
      "Memori address dari a 2531934736320\n",
      "Memori address dari b 2531934780928\n",
      "Apakah a adalah b? False\n"
     ]
    }
   ],
   "source": [
    "x = 10\n",
    "y = 10\n",
    "\n",
    "print('Memori address dari x',id(x))\n",
    "print('Memori address dari y',id(y))\n",
    "print('Apakah x adalah y?',x is y)\n",
    "\n",
    "a = [4,7,8]\n",
    "b = [4,7,8]\n",
    "\n",
    "print('Memori address dari a',id(a))\n",
    "print('Memori address dari b',id(b))\n",
    "print('Apakah a adalah b?',a is b)"
   ]
  },
  {
   "cell_type": "markdown",
   "id": "576666c8-6491-49a3-8a49-bd774538b0ef",
   "metadata": {},
   "source": [
    "<h1>8.Operator Ternary</h1>"
   ]
  },
  {
   "cell_type": "code",
   "execution_count": 29,
   "id": "c7c59e17-f2c6-4a49-85b3-5b069b62c585",
   "metadata": {},
   "outputs": [
    {
     "name": "stdin",
     "output_type": "stream",
     "text": [
      "Isikan angka : 249\n"
     ]
    },
    {
     "name": "stdout",
     "output_type": "stream",
     "text": [
      "Lebih besar dari 100\n"
     ]
    },
    {
     "name": "stdin",
     "output_type": "stream",
     "text": [
      "Isikan nilai : 90\n"
     ]
    },
    {
     "name": "stdout",
     "output_type": "stream",
     "text": [
      "LULUS\n"
     ]
    }
   ],
   "source": [
    "number = int(input(\"Isikan angka :\"))\n",
    "AngkaLebihBesar = \"Lebih besar dari 100\" if number > 100 else \"Lebih kecil dari 100\"\n",
    "print(AngkaLebihBesar)\n",
    "\n",
    "nilai = int(input(\"Isikan nilai :\"))\n",
    "nilaiLulus = \"LULUS\" if nilai > 70 else \"Tidak Lulus\"\n",
    "print(nilaiLulus)"
   ]
  }
 ],
 "metadata": {
  "kernelspec": {
   "display_name": "Python [conda env:base] *",
   "language": "python",
   "name": "conda-base-py"
  },
  "language_info": {
   "codemirror_mode": {
    "name": "ipython",
    "version": 3
   },
   "file_extension": ".py",
   "mimetype": "text/x-python",
   "name": "python",
   "nbconvert_exporter": "python",
   "pygments_lexer": "ipython3",
   "version": "3.12.7"
  }
 },
 "nbformat": 4,
 "nbformat_minor": 5
}
