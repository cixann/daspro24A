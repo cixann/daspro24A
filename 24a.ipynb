{
 "cells": [
  {
   "cell_type": "markdown",
   "id": "67fafea3",
   "metadata": {},
   "source": [
    "<center><img src= \"https://www.python.org/static/community_logos/python-logo-master-v3-TM.png\" width=\"300\"></center><br>\n",
    "logo phyton<br>\n",
    "tempat menuliskan kode disebut sebagai <b>cell</b><br>\n",
    "<ol>\n",
    "    <li>code - y</ol>\n",
    "    <li>markdown - m</li>\n",
    "    <ol>\n",
    "    <hr>\n",
    "    cara menjalankan cell<br>\n",
    "    <table>\n",
    "        <tr>\n",
    "            <td>command<td>\n",
    "            <td> keterangan</td>\n",
    "        </tr>\n",
    "        <tr>\n",
    "            <td>ctrl + enter </td>\n",
    "            <td>running dan fokus di cell aktif</td>\n",
    "        </tr>\n",
    "        <tr>\n",
    "            <td>shift + enter </td>\n",
    "            <td> running dan fokus di cell berikutnya</td>\n",
    "        </tr>\n",
    "        <table>\n",
    "            \n",
    "            "
   ]
  },
  {
   "cell_type": "markdown",
   "id": "f2631e28",
   "metadata": {},
   "source": [
    "name = \"Dedi\"\n",
    "age = 20\n",
    "address = \"jl.Cibolang\",\"75645666\"\n",
    "scorepython = 80.5\n",
    "isMarried = false\n",
    "\n",
    "print(\"Nama :\",name)\n",
    "print(\"umur :\",age)\n",
    "print(\"Alamat:\",address)\n",
    "print(\"Nilai pemrograman :\", scorePython)\n",
    "print(\"Status MEnikah :\", IsMarried)"
   ]
  },
  {
   "cell_type": "code",
   "execution_count": 11,
   "id": "f1e55ab8",
   "metadata": {},
   "outputs": [
    {
     "name": "stdout",
     "output_type": "stream",
     "text": [
      "Nama : Dedi\n",
      "umur : 20\n",
      "Alamat: jl.Cibolang\n",
      "Nilai pemrograman : 80.5\n",
      "Status MEnikah : False\n"
     ]
    }
   ],
   "source": [
    "name = \"Dedi\"\n",
    "age = 20\n",
    "address,province = \"jl.Cibolang\",\"75645666\"\n",
    "scorePython = 80.5\n",
    "isMarried = False\n",
    "\n",
    "print(\"Nama :\",name)\n",
    "print(\"umur :\",age)\n",
    "print(\"Alamat:\",address)\n",
    "print(\"Nilai pemrograman :\", scorePython)\n",
    "print(\"Status MEnikah :\", isMarried)"
   ]
  },
  {
   "cell_type": "code",
   "execution_count": 12,
   "id": "b9a55721",
   "metadata": {},
   "outputs": [
    {
     "name": "stdout",
     "output_type": "stream",
     "text": [
      "Tipe Data<name> <class 'str'>\n",
      "Tipe Data<age> <class 'int'>\n",
      "Tipe Data<address> <class 'str'>\n",
      "Tipe Data<province> <class 'str'>\n",
      "Tipe Data<scorePython> <class 'float'>\n",
      "Tipe Data<isMarried> <class 'bool'>\n"
     ]
    }
   ],
   "source": [
    "print(\"Tipe Data<name>\",type(name))\n",
    "print(\"Tipe Data<age>\",type(age))\n",
    "print(\"Tipe Data<address>\",type(address))\n",
    "print(\"Tipe Data<province>\",type(province))\n",
    "print(\"Tipe Data<scorePython>\",type(scorePython))\n",
    "print(\"Tipe Data<isMarried>\",type(isMarried))"
   ]
  },
  {
   "cell_type": "code",
   "execution_count": 21,
   "id": "0d160f7c",
   "metadata": {},
   "outputs": [
    {
     "name": "stdout",
     "output_type": "stream",
     "text": [
      "75645666-75645666.0-True\n",
      "20-20.0-True\n",
      "80.5-80-True\n",
      "0-0.0-False\n"
     ]
    }
   ],
   "source": [
    "#catrToInt = int(province)\n",
    "#Konversi dari String ke (int,float,bool)\n",
    "strToInt = int(province)\n",
    "strToFloat = float (province)\n",
    "strToBool = bool(province)\n",
    "print (strToInt,strToFloat,strToBool, sep=\"-\")\n",
    "#Konversi dari int ke (str,int,bool)\n",
    "intToStr = str (age)\n",
    "intToFloat = float (age)\n",
    "intToBool = bool (age)\n",
    "print  (intToStr,intToFloat,intToBool, sep=\"-\")\n",
    "#konversi dari float ke (str,int , bool)\n",
    "FloatToStr = str(scorePython)\n",
    "FloatToInt = int (scorePython)\n",
    "FloatToBool = bool (scorePython)\n",
    "print  (FloatToStr,FloatToInt,FloatToBool, sep=\"-\")\n",
    "#konversi dari bool ke (str,int , bool)\n",
    "boolToInt = int (isMarried)\n",
    "boolToFloat = float  (isMarried)\n",
    "boolToStr = str  (isMarried)\n",
    "print  (boolToInt,boolToFloat,boolToStr, sep=\"-\")"
   ]
  },
  {
   "cell_type": "code",
   "execution_count": 22,
   "id": "183043bb",
   "metadata": {},
   "outputs": [
    {
     "name": "stdout",
     "output_type": "stream",
     "text": [
      "S\n",
      "i\n"
     ]
    }
   ],
   "source": [
    "city = \"Sukabumi\"\n",
    "lenCity = len(city)\n",
    "print(city[0])\n",
    "print(city[lenCity-1])"
   ]
  },
  {
   "cell_type": "code",
   "execution_count": 25,
   "id": "bda1965e",
   "metadata": {},
   "outputs": [
    {
     "name": "stdout",
     "output_type": "stream",
     "text": [
      "Nilai Desimal :  200\n",
      "Nilai Desimal dari 0xffP: 255\n",
      "Nilai Desimal dari 0b1010: 10\n",
      "Nilai Desimal dari 0o377: 255\n",
      "=======\n",
      "Nilai Biner Dari: 200 0b11001000\n",
      "Nilai Octal Dari: 200 0o310\n",
      "Nilai Hexa Dari: 200 0xc8\n"
     ]
    }
   ],
   "source": [
    "desimal = 200\n",
    "hexa = 0xff\n",
    "biner = 0b1010\n",
    "octal = 0o377\n",
    "\n",
    "print(\"Nilai Desimal : \", desimal)\n",
    "print(\"Nilai Desimal dari 0xffP:\",hexa)\n",
    "print(\"Nilai Desimal dari 0b1010:\",biner)\n",
    "print(\"Nilai Desimal dari 0o377:\",octal)\n",
    "print(\"=======\")\n",
    "print(\"Nilai Biner Dari:\",desimal,bin(desimal))\n",
    "print(\"Nilai Octal Dari:\",desimal,oct(desimal))\n",
    "print(\"Nilai Hexa Dari:\",desimal,hex(desimal))\n"
   ]
  },
  {
   "cell_type": "code",
   "execution_count": 63,
   "id": "27d41417",
   "metadata": {},
   "outputs": [
    {
     "ename": "IndentationError",
     "evalue": "unexpected indent (3415673436.py, line 31)",
     "output_type": "error",
     "traceback": [
      "\u001b[1;36m  Input \u001b[1;32mIn [63]\u001b[1;36m\u001b[0m\n\u001b[1;33m    \"name\" : \"ukar\",\u001b[0m\n\u001b[1;37m    ^\u001b[0m\n\u001b[1;31mIndentationError\u001b[0m\u001b[1;31m:\u001b[0m unexpected indent\n"
     ]
    }
   ],
   "source": [
    "#Tipe data Collection\n",
    "\n",
    "cities = [\"Sukabumi\",\"Bandung\",\"Bogor\",\"Jakarta\"]\n",
    "print(cities)\n",
    "print(cities[0])\n",
    "print(cities[len(cities)-1])\n",
    "cities[1] = \"Medan\"\n",
    "print(cities)\n",
    "print(cities[len(cities)-1][0])\n",
    "\n",
    "#Tuple\n",
    "names = (\"Andi\",\"Budi\",\"Caca\")\n",
    "print(names)\n",
    "#names[0] = \"Rudi akan menyebabkan error, karena tuple adalah imutable\"\n",
    "studentData = {\n",
    "     \"name\" : \"Dedi\",\n",
    "    \"address\" : {\n",
    "        \"street\" : \"lodaya Allbase\",\n",
    "        \"number\" : 34,\n",
    "        \"province\" : \"west java\"\n",
    "    },\n",
    "    \"age\" : 34,\n",
    "    \"isMarried\" : \"True\"\n",
    "},\n",
    "\n",
    "\n",
    "\n",
    "listStudent = {\n",
    "    \n",
    "}\n",
    "    \"name\" : \"ukar\",\n",
    "    \"address\" : {\n",
    "        \"street\" : \"lodaya Allbase\",\n",
    "        \"number\" : 34,\n",
    "        \"province\" : \"west java\"\n",
    "    },\n",
    "    \"hobbies\" : [\"basket\",\"football\"]\n",
    "    \"age\" : 34,\n",
    "    \"isMarried\" : \"True\"\n",
    "},\n",
    "{\n",
    "    \"name\" : \"Budi\",\n",
    "    \"address\" : {\n",
    "        \"street\" : \"DwiDarma\",\n",
    "        \"number\" : 34,\n",
    "        \"province\" : \"west java\"\n",
    "    },\n",
    "    \"age\" : 34,\n",
    "    \"isMarried\" : \"False\"\n",
    "}\n",
    "\n",
    "print(studentData)\n",
    "print(studentData[\"address\"][\"province\"])#west java\n",
    "print(listStudent[1])\n",
    "print(listStudent[0][\"hobbies\"][1])\n",
    "print(listStudent[0][\"age\"]) #34-umur Dedi"
   ]
  },
  {
   "cell_type": "code",
   "execution_count": 2,
   "id": "321dc80c",
   "metadata": {},
   "outputs": [
    {
     "name": "stdout",
     "output_type": "stream",
     "text": [
      "{'name': 'Dika', 'Nilai': '80'}\n",
      "{'buah': 'apel', 'harga': '10000'}\n",
      "{'name': 'cindo', 'nilai': '65'}\n",
      "{'buah': 'mangga', 'harga': '80000'}\n",
      "{'name': 'yaman', 'age': '19', 'address': 'Sukabumi'}\n"
     ]
    }
   ],
   "source": [
    "#casting Dictonary\n",
    "\n",
    "list_tuple = [(\"name\",\"Dika\"),(\"Nilai\",\"80\")]\n",
    "dictStudent = dict(list_tuple)\n",
    "print(dictStudent)\n",
    "\n",
    "list_list = [(\"buah\",\"apel\"),(\"harga\",\"10000\")]\n",
    "dictBuah = dict(list_list)\n",
    "print(dictBuah)\n",
    "\n",
    "tuple_tuple = ((\"name\",\"cindo\"),(\"nilai\",\"65\"))\n",
    "dictName =  dict(tuple_tuple)\n",
    "print(dictName)\n",
    "\n",
    "tuple_list = [(\"buah\",\"mangga\"),(\"harga\",\"80000\")]\n",
    "dictBuah = dict(tuple_list)\n",
    "print(dictBuah)\n",
    "\n",
    "keys = [\"name\",\"age\",\"address\"]\n",
    "values = [\"yaman\",\"19\", \"Sukabumi\"]\n",
    "\n",
    "dictData = dict(zip (keys,values))\n",
    "print(dictData)"
   ]
  },
  {
   "cell_type": "markdown",
   "id": "68b15716",
   "metadata": {},
   "source": []
  }
 ],
 "metadata": {
  "kernelspec": {
   "display_name": "Python 3 (ipykernel)",
   "language": "python",
   "name": "python3"
  },
  "language_info": {
   "codemirror_mode": {
    "name": "ipython",
    "version": 3
   },
   "file_extension": ".py",
   "mimetype": "text/x-python",
   "name": "python",
   "nbconvert_exporter": "python",
   "pygments_lexer": "ipython3",
   "version": "3.9.12"
  }
 },
 "nbformat": 4,
 "nbformat_minor": 5
}
