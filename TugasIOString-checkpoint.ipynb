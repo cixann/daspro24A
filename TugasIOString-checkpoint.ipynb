{
 "cells": [
  {
   "cell_type": "markdown",
   "id": "1ac5b9d6-d135-4653-92e8-7fbc00352d32",
   "metadata": {},
   "source": [
    "<h1>1. Buatlah biodata sederhana dengan menggunakan fungsi input(), dan\n",
    "output variabel dengan fungsi format().</h1>"
   ]
  },
  {
   "cell_type": "code",
   "execution_count": 5,
   "id": "b8fc3a8d-abb8-4b45-968b-34d9a82c2edf",
   "metadata": {},
   "outputs": [
    {
     "name": "stdin",
     "output_type": "stream",
     "text": [
      "Isikan Nama Lengkap : ikhsanuril al fayadh\n",
      "Isikan Tempat Tanggal Lahir : sukabumi 19 maret 2006\n",
      "Isikan Jenis Kelamin : laki laki\n",
      "Isikan Alamat : jl veteran 1\n",
      "Isikan No Telepon : 085795137055\n",
      "Isikan Email : ikhsanuril19@gmail.com\n",
      "Isikan Status : mahasiswa\n"
     ]
    },
    {
     "name": "stdout",
     "output_type": "stream",
     "text": [
      "\n",
      " --- Biodata Diri ---\n",
      "Nama Lengkap : ikhsanuril al fayadh\n",
      "Tempat Tanggal Lahir : sukabumi 19 maret 2006\n",
      "Jenis Kelamin : laki laki.\n",
      "Alamat : jl veteran 1\n",
      "No Telepon : 085795137055\n",
      "Email : ikhsanuril19@gmail.com\n",
      "Status : mahasiswa\n"
     ]
    }
   ],
   "source": [
    "namaL = input(\"Isikan Nama Lengkap :\")\n",
    "TTL = input(\"Isikan Tempat Tanggal Lahir :\")\n",
    "jk = input(\"Isikan Jenis Kelamin :\")\n",
    "alamat = input(\"Isikan Alamat :\")\n",
    "notel = input(\"Isikan No Telepon :\")\n",
    "email = input(\"Isikan Email :\")\n",
    "status = input(\"Isikan Status :\")\n",
    "\n",
    "print(\"\\n --- Biodata Diri ---\")\n",
    "print(\"Nama Lengkap : {}\".format(namaL))\n",
    "print(\"Tempat Tanggal Lahir : {}\".format(TTL))\n",
    "print(\"Jenis Kelamin : {}.\".format(jk))\n",
    "print(\"Alamat : {}\".format(alamat))\n",
    "print(\"No Telepon : {}\".format(notel))\n",
    "print(\"Email : {}\".format(email))\n",
    "print(\"Status : {}\".format(status))\n"
   ]
  },
  {
   "cell_type": "markdown",
   "id": "abb9de27-1c48-4d58-a6e0-e5bb34f721ef",
   "metadata": {},
   "source": [
    "<h1>2. Jika terdapat kalimat UNIVERSITAS NUSA PUTRA SUKABUMI ,buatlah\n",
    "kode program untuk menampilkan output:\n",
    "a. putra nusa\n",
    "b. NIVERSITAS NSA PTRA SKABMI\n",
    "c. SUKABUMI PUTRA NUSA UNIVERSITAS\n",
    "d. UNPS\n",
    "e. TAS SAPU BUMI</h1>"
   ]
  },
  {
   "cell_type": "code",
   "execution_count": 6,
   "id": "ae506625-c6bf-430c-b399-f6dffd501998",
   "metadata": {},
   "outputs": [
    {
     "name": "stdin",
     "output_type": "stream",
     "text": [
      "Masukan kalimat : UNIVERSITAS NUSA PUTRA SUKABUMI\n"
     ]
    },
    {
     "name": "stdout",
     "output_type": "stream",
     "text": [
      "\n",
      " a.PUTRA NUSA\n",
      "\n",
      " b.NIVERSITAS NSA PTRA SKABMI\n",
      "\n",
      " c.SUKABUMI PUTRA NUSA UNIVERSITAS\n",
      "\n",
      " d.UNPS\n",
      "\n",
      " e.TAS SAPU BUMI\n"
     ]
    }
   ],
   "source": [
    "kalimat = input(\"Masukan kalimat :\")\n",
    "#a. putra nusa\n",
    "print(\"\\n a.\", end = '')\n",
    "print(kalimat [17:22], end = ' ')#PUTRA\n",
    "print(kalimat [12:16])#NUSA\n",
    "#b. NIVERSITAS NSA PTRA SKABMI\n",
    "print(\"\\n b.\", end = '')\n",
    "print(kalimat [1:11], end = ' ')#NIVERSITAS\n",
    "print(kalimat [12], end = '')#N\n",
    "print(kalimat [14:16], end = ' ')#SA\n",
    "print(kalimat [17], end = '')#P\n",
    "print(kalimat [19:-9], end = ' ')#TRA\n",
    "print(kalimat [23], end = '')#S\n",
    "print(kalimat [25:28], end = '')#KAB\n",
    "print(kalimat [29:])#MI\n",
    "#c. SUKABUMI PUTRA NUSA UNIVERSITAS\n",
    "print(\"\\n c.\", end = '')\n",
    "print(kalimat [23:], end = ' ')#SUKABUMI\n",
    "print(kalimat [17:22], end = ' ')#PUTRA\n",
    "print(kalimat [12:16], end = ' ')#NUSA\n",
    "print(kalimat [0:11])#UNIVERSITAS\n",
    "#d. UNPS\n",
    "print(\"\\n d.\", end = '')\n",
    "print(kalimat [0], end = '')#U\n",
    "print(kalimat [12], end = '')#N\n",
    "print(kalimat [17], end = '')#P\n",
    "print(kalimat [23])#S\n",
    "print(\"\\n e.\", end = '')\n",
    "print(kalimat [8:11], end = ' ')#TAS\n",
    "print(kalimat [14:16], end = '')#SA\n",
    "print(kalimat [17:19], end = ' ')#PU\n",
    "print(kalimat [27:])#BUMI"
   ]
  }
 ],
 "metadata": {
  "kernelspec": {
   "display_name": "Python [conda env:base] *",
   "language": "python",
   "name": "conda-base-py"
  },
  "language_info": {
   "codemirror_mode": {
    "name": "ipython",
    "version": 3
   },
   "file_extension": ".py",
   "mimetype": "text/x-python",
   "name": "python",
   "nbconvert_exporter": "python",
   "pygments_lexer": "ipython3",
   "version": "3.12.7"
  }
 },
 "nbformat": 4,
 "nbformat_minor": 5
}
